{
 "cells": [
  {
   "cell_type": "code",
   "execution_count": 22,
   "metadata": {},
   "outputs": [
    {
     "name": "stdout",
     "output_type": "stream",
     "text": [
      "enter secret message please! bloop bloop bloop\n",
      "enter a number 3\n",
      "TgbCzlLqomOorlpZH gfbfrllLoJVoWCphS gTbvTlcXoXxoJOp\n"
     ]
    }
   ],
   "source": [
    "import string\n",
    "import random\n",
    "\n",
    "abc = string.ascii_letters\n",
    "\n",
    "mssge = input('enter secret message please! ')\n",
    "mssgx = mssge \n",
    "#i originally put mssge.strip().lower() in the line above. in order to not have to rewrite the code\n",
    "#when I realized I didn't need those functions I just left mssgx = mssge\n",
    "num = int(input('enter a number '))\n",
    "\n",
    "strx = ''\n",
    "#strx means string x this is what the message will be encoded into\n",
    "#i used the total ascii list so there will be some upper case letters in the encoded message\n",
    "abc = string.ascii_letters\n",
    "#I did a range(len()) loop here to create a loop exactly as long as the desired encoded message,\n",
    "#then I checked if each iteration index+1 was divisble by the desired number\n",
    "for rl in range(len(mssgx*num)):\n",
    "    if (rl+1) % num == 0:\n",
    "        strx = strx + mssgx[rl//num]\n",
    "    else:  \n",
    "        strx = strx + random.choice(abc)\n",
    "print(strx)"
   ]
  },
  {
   "cell_type": "code",
   "execution_count": 23,
   "metadata": {},
   "outputs": [
    {
     "name": "stdout",
     "output_type": "stream",
     "text": [
      "please enter your encoded message TgbCzlLqomOorlpZH gfbfrllLoJVoWCphS gTbvTlcXoXxoJOp\n",
      "enter your super secret number please! 3\n",
      "bloop bloop bloop\n"
     ]
    }
   ],
   "source": [
    "mssgd = input('please enter your encoded message ')\n",
    "mssgy = mssgd\n",
    "#same thing here, above was originally mssgd.strip().lower() but i realized i didn't need those\n",
    "num = int(input('enter your super secret number please! '))\n",
    "stry = ''\n",
    "#this loop below is basically what will be doing the decoding\n",
    "for i in range(len(mssgy)):\n",
    "    if (i+1) % num == 0:\n",
    "        stry = stry + mssgy[i]\n",
    "    else:\n",
    "        stry = stry\n",
    "print(stry)\n"
   ]
  },
  {
   "cell_type": "code",
   "execution_count": null,
   "metadata": {},
   "outputs": [],
   "source": []
  },
  {
   "cell_type": "code",
   "execution_count": null,
   "metadata": {},
   "outputs": [],
   "source": []
  }
 ],
 "metadata": {
  "kernelspec": {
   "display_name": "Python 3",
   "language": "python",
   "name": "python3"
  },
  "language_info": {
   "codemirror_mode": {
    "name": "ipython",
    "version": 3
   },
   "file_extension": ".py",
   "mimetype": "text/x-python",
   "name": "python",
   "nbconvert_exporter": "python",
   "pygments_lexer": "ipython3",
   "version": "3.8.5"
  }
 },
 "nbformat": 4,
 "nbformat_minor": 4
}
